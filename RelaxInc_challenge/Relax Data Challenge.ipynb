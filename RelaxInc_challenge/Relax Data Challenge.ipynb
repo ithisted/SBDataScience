{
 "cells": [
  {
   "cell_type": "markdown",
   "metadata": {},
   "source": [
    "The data is available as two attached CSV files:\n",
    "takehome_user_engagement. csv\n",
    "takehome_users . csv\n",
    "The data has the following two tables:\n",
    "\n",
    "\n",
    "1] A user table ( \"takehome_users\" ) with data on 12,000 users who signed up for the\n",
    "product in the last two years. This table includes:  \n",
    "\n",
    "    ● name: the user's name  \n",
    "    ● object_id: the user's id  \n",
    "    ● email: email address     \n",
    "    ● creation_source: how their account was created. This takes on one\n",
    "    of 5 values:\n",
    "        ○ PERSONAL_PROJECTS: invited to join another user's\n",
    "    personal workspace  \n",
    "        ○ GUEST_INVITE: invited to an organization as a guest\n",
    "    (limited permissions)  \n",
    "        ○ ORG_INVITE: invited to an organization (as a full member)\n",
    "        ○ SIGNUP: signed up via the website  \n",
    "        ○ SIGNUP_GOOGLE_AUTH: signed up using Google  \n",
    "    Authentication (using a Google email account for their login\n",
    "    id)  \n",
    "    ● creation_time: when they created their account  \n",
    "    ● last_session_creation_time: unix timestamp of last login  \n",
    "    ● opted_in_to_mailing_list: whether they have opted into receiving\n",
    "    marketing emails  \n",
    "    ● enabled_for_marketing_drip: whether they are on the regular\n",
    "    marketing email drip  \n",
    "    ● org_id: the organization (group of users) they belong to  \n",
    "    ● invited_by_user_id: which user invited them to join (if applicable).  \n",
    "\n",
    "\n",
    "2] A usage summary table ( \"takehome_user_engagement\" ) that has a row for each day\n",
    "that a user logged into the product.\n",
    "Defining an \"adopted user\" as a user who has logged into the product on three separate\n",
    "days in at least one sevenday\n",
    "period , identify which factors predict future user\n",
    "adoption .\n",
    "\n",
    "We suggest spending 1-2\n",
    "hours on this, but you're welcome to spend more or less.\n",
    "Please send us a brief writeup of your findings (the more concise, the better no\n",
    "more\n",
    "than one page), along with any summary tables, graphs, code, or queries that can help\n",
    "us understand your approach. Please note any factors you considered or investigation\n",
    "you did, even if they did not pan out. Feel free to identify any further research or data\n",
    "you think would be valuable."
   ]
  },
  {
   "cell_type": "code",
   "execution_count": 1,
   "metadata": {},
   "outputs": [],
   "source": [
    "import pandas as pd\n",
    "import numpy as np\n",
    "import matplotlib.pyplot as plt\n",
    "import matplotlib.dates as mdates\n",
    "from matplotlib.dates import DateFormatter"
   ]
  },
  {
   "cell_type": "code",
   "execution_count": 2,
   "metadata": {},
   "outputs": [
    {
     "data": {
      "text/html": [
       "<div>\n",
       "<style scoped>\n",
       "    .dataframe tbody tr th:only-of-type {\n",
       "        vertical-align: middle;\n",
       "    }\n",
       "\n",
       "    .dataframe tbody tr th {\n",
       "        vertical-align: top;\n",
       "    }\n",
       "\n",
       "    .dataframe thead th {\n",
       "        text-align: right;\n",
       "    }\n",
       "</style>\n",
       "<table border=\"1\" class=\"dataframe\">\n",
       "  <thead>\n",
       "    <tr style=\"text-align: right;\">\n",
       "      <th></th>\n",
       "      <th>object_id</th>\n",
       "      <th>creation_time</th>\n",
       "      <th>name</th>\n",
       "      <th>email</th>\n",
       "      <th>creation_source</th>\n",
       "      <th>last_session_creation_time</th>\n",
       "      <th>opted_in_to_mailing_list</th>\n",
       "      <th>enabled_for_marketing_drip</th>\n",
       "      <th>org_id</th>\n",
       "      <th>invited_by_user_id</th>\n",
       "    </tr>\n",
       "  </thead>\n",
       "  <tbody>\n",
       "    <tr>\n",
       "      <th>0</th>\n",
       "      <td>1</td>\n",
       "      <td>2014-04-22 03:53:30</td>\n",
       "      <td>Clausen August</td>\n",
       "      <td>AugustCClausen@yahoo.com</td>\n",
       "      <td>GUEST_INVITE</td>\n",
       "      <td>2014-04-22 03:53:30</td>\n",
       "      <td>1</td>\n",
       "      <td>0</td>\n",
       "      <td>11</td>\n",
       "      <td>10803.0</td>\n",
       "    </tr>\n",
       "    <tr>\n",
       "      <th>1</th>\n",
       "      <td>2</td>\n",
       "      <td>2013-11-15 03:45:04</td>\n",
       "      <td>Poole Matthew</td>\n",
       "      <td>MatthewPoole@gustr.com</td>\n",
       "      <td>ORG_INVITE</td>\n",
       "      <td>2014-03-31 03:45:04</td>\n",
       "      <td>0</td>\n",
       "      <td>0</td>\n",
       "      <td>1</td>\n",
       "      <td>316.0</td>\n",
       "    </tr>\n",
       "    <tr>\n",
       "      <th>2</th>\n",
       "      <td>3</td>\n",
       "      <td>2013-03-19 23:14:52</td>\n",
       "      <td>Bottrill Mitchell</td>\n",
       "      <td>MitchellBottrill@gustr.com</td>\n",
       "      <td>ORG_INVITE</td>\n",
       "      <td>2013-03-19 23:14:52</td>\n",
       "      <td>0</td>\n",
       "      <td>0</td>\n",
       "      <td>94</td>\n",
       "      <td>1525.0</td>\n",
       "    </tr>\n",
       "    <tr>\n",
       "      <th>3</th>\n",
       "      <td>4</td>\n",
       "      <td>2013-05-21 08:09:28</td>\n",
       "      <td>Clausen Nicklas</td>\n",
       "      <td>NicklasSClausen@yahoo.com</td>\n",
       "      <td>GUEST_INVITE</td>\n",
       "      <td>2013-05-22 08:09:28</td>\n",
       "      <td>0</td>\n",
       "      <td>0</td>\n",
       "      <td>1</td>\n",
       "      <td>5151.0</td>\n",
       "    </tr>\n",
       "    <tr>\n",
       "      <th>4</th>\n",
       "      <td>5</td>\n",
       "      <td>2013-01-17 10:14:20</td>\n",
       "      <td>Raw Grace</td>\n",
       "      <td>GraceRaw@yahoo.com</td>\n",
       "      <td>GUEST_INVITE</td>\n",
       "      <td>2013-01-22 10:14:20</td>\n",
       "      <td>0</td>\n",
       "      <td>0</td>\n",
       "      <td>193</td>\n",
       "      <td>5240.0</td>\n",
       "    </tr>\n",
       "    <tr>\n",
       "      <th>...</th>\n",
       "      <td>...</td>\n",
       "      <td>...</td>\n",
       "      <td>...</td>\n",
       "      <td>...</td>\n",
       "      <td>...</td>\n",
       "      <td>...</td>\n",
       "      <td>...</td>\n",
       "      <td>...</td>\n",
       "      <td>...</td>\n",
       "      <td>...</td>\n",
       "    </tr>\n",
       "    <tr>\n",
       "      <th>11995</th>\n",
       "      <td>11996</td>\n",
       "      <td>2013-09-06 06:14:15</td>\n",
       "      <td>Meier Sophia</td>\n",
       "      <td>SophiaMeier@gustr.com</td>\n",
       "      <td>ORG_INVITE</td>\n",
       "      <td>2013-09-06 06:14:15</td>\n",
       "      <td>0</td>\n",
       "      <td>0</td>\n",
       "      <td>89</td>\n",
       "      <td>8263.0</td>\n",
       "    </tr>\n",
       "    <tr>\n",
       "      <th>11996</th>\n",
       "      <td>11997</td>\n",
       "      <td>2013-01-10 18:28:37</td>\n",
       "      <td>Fisher Amelie</td>\n",
       "      <td>AmelieFisher@gmail.com</td>\n",
       "      <td>SIGNUP_GOOGLE_AUTH</td>\n",
       "      <td>2013-01-15 18:28:37</td>\n",
       "      <td>0</td>\n",
       "      <td>0</td>\n",
       "      <td>200</td>\n",
       "      <td>NaN</td>\n",
       "    </tr>\n",
       "    <tr>\n",
       "      <th>11997</th>\n",
       "      <td>11998</td>\n",
       "      <td>2014-04-27 12:45:16</td>\n",
       "      <td>Haynes Jake</td>\n",
       "      <td>JakeHaynes@cuvox.de</td>\n",
       "      <td>GUEST_INVITE</td>\n",
       "      <td>2014-04-27 12:45:16</td>\n",
       "      <td>1</td>\n",
       "      <td>1</td>\n",
       "      <td>83</td>\n",
       "      <td>8074.0</td>\n",
       "    </tr>\n",
       "    <tr>\n",
       "      <th>11998</th>\n",
       "      <td>11999</td>\n",
       "      <td>2012-05-31 11:55:59</td>\n",
       "      <td>Faber Annett</td>\n",
       "      <td>mhaerzxp@iuxiw.com</td>\n",
       "      <td>PERSONAL_PROJECTS</td>\n",
       "      <td>2012-06-02 11:55:59</td>\n",
       "      <td>0</td>\n",
       "      <td>0</td>\n",
       "      <td>6</td>\n",
       "      <td>NaN</td>\n",
       "    </tr>\n",
       "    <tr>\n",
       "      <th>11999</th>\n",
       "      <td>12000</td>\n",
       "      <td>2014-01-26 08:57:12</td>\n",
       "      <td>Lima Thaís</td>\n",
       "      <td>ThaisMeloLima@hotmail.com</td>\n",
       "      <td>SIGNUP</td>\n",
       "      <td>2014-01-26 08:57:12</td>\n",
       "      <td>0</td>\n",
       "      <td>1</td>\n",
       "      <td>0</td>\n",
       "      <td>NaN</td>\n",
       "    </tr>\n",
       "  </tbody>\n",
       "</table>\n",
       "<p>12000 rows × 10 columns</p>\n",
       "</div>"
      ],
      "text/plain": [
       "       object_id       creation_time               name  \\\n",
       "0              1 2014-04-22 03:53:30     Clausen August   \n",
       "1              2 2013-11-15 03:45:04      Poole Matthew   \n",
       "2              3 2013-03-19 23:14:52  Bottrill Mitchell   \n",
       "3              4 2013-05-21 08:09:28    Clausen Nicklas   \n",
       "4              5 2013-01-17 10:14:20          Raw Grace   \n",
       "...          ...                 ...                ...   \n",
       "11995      11996 2013-09-06 06:14:15       Meier Sophia   \n",
       "11996      11997 2013-01-10 18:28:37      Fisher Amelie   \n",
       "11997      11998 2014-04-27 12:45:16        Haynes Jake   \n",
       "11998      11999 2012-05-31 11:55:59       Faber Annett   \n",
       "11999      12000 2014-01-26 08:57:12         Lima Thaís   \n",
       "\n",
       "                            email     creation_source  \\\n",
       "0        AugustCClausen@yahoo.com        GUEST_INVITE   \n",
       "1          MatthewPoole@gustr.com          ORG_INVITE   \n",
       "2      MitchellBottrill@gustr.com          ORG_INVITE   \n",
       "3       NicklasSClausen@yahoo.com        GUEST_INVITE   \n",
       "4              GraceRaw@yahoo.com        GUEST_INVITE   \n",
       "...                           ...                 ...   \n",
       "11995       SophiaMeier@gustr.com          ORG_INVITE   \n",
       "11996      AmelieFisher@gmail.com  SIGNUP_GOOGLE_AUTH   \n",
       "11997         JakeHaynes@cuvox.de        GUEST_INVITE   \n",
       "11998          mhaerzxp@iuxiw.com   PERSONAL_PROJECTS   \n",
       "11999   ThaisMeloLima@hotmail.com              SIGNUP   \n",
       "\n",
       "      last_session_creation_time  opted_in_to_mailing_list  \\\n",
       "0            2014-04-22 03:53:30                         1   \n",
       "1            2014-03-31 03:45:04                         0   \n",
       "2            2013-03-19 23:14:52                         0   \n",
       "3            2013-05-22 08:09:28                         0   \n",
       "4            2013-01-22 10:14:20                         0   \n",
       "...                          ...                       ...   \n",
       "11995        2013-09-06 06:14:15                         0   \n",
       "11996        2013-01-15 18:28:37                         0   \n",
       "11997        2014-04-27 12:45:16                         1   \n",
       "11998        2012-06-02 11:55:59                         0   \n",
       "11999        2014-01-26 08:57:12                         0   \n",
       "\n",
       "       enabled_for_marketing_drip  org_id  invited_by_user_id  \n",
       "0                               0      11             10803.0  \n",
       "1                               0       1               316.0  \n",
       "2                               0      94              1525.0  \n",
       "3                               0       1              5151.0  \n",
       "4                               0     193              5240.0  \n",
       "...                           ...     ...                 ...  \n",
       "11995                           0      89              8263.0  \n",
       "11996                           0     200                 NaN  \n",
       "11997                           1      83              8074.0  \n",
       "11998                           0       6                 NaN  \n",
       "11999                           1       0                 NaN  \n",
       "\n",
       "[12000 rows x 10 columns]"
      ]
     },
     "execution_count": 2,
     "metadata": {},
     "output_type": "execute_result"
    }
   ],
   "source": [
    "# read in data\n",
    "df_users = pd.read_csv('takehome_users.csv', parse_dates=['creation_time'] , encoding='iso-8859-1')\n",
    "df_users['last_session_creation_time'] = pd.to_datetime(df_users['last_session_creation_time'],unit='s')\n",
    "df_users"
   ]
  },
  {
   "cell_type": "code",
   "execution_count": 3,
   "metadata": {},
   "outputs": [
    {
     "name": "stdout",
     "output_type": "stream",
     "text": [
      "<class 'pandas.core.frame.DataFrame'>\n",
      "RangeIndex: 12000 entries, 0 to 11999\n",
      "Data columns (total 10 columns):\n",
      "object_id                     12000 non-null int64\n",
      "creation_time                 12000 non-null datetime64[ns]\n",
      "name                          12000 non-null object\n",
      "email                         12000 non-null object\n",
      "creation_source               12000 non-null object\n",
      "last_session_creation_time    8823 non-null datetime64[ns]\n",
      "opted_in_to_mailing_list      12000 non-null int64\n",
      "enabled_for_marketing_drip    12000 non-null int64\n",
      "org_id                        12000 non-null int64\n",
      "invited_by_user_id            6417 non-null float64\n",
      "dtypes: datetime64[ns](2), float64(1), int64(4), object(3)\n",
      "memory usage: 937.6+ KB\n"
     ]
    }
   ],
   "source": [
    "df_users.info()"
   ]
  },
  {
   "cell_type": "code",
   "execution_count": 4,
   "metadata": {
    "scrolled": false
   },
   "outputs": [
    {
     "data": {
      "text/html": [
       "<div>\n",
       "<style scoped>\n",
       "    .dataframe tbody tr th:only-of-type {\n",
       "        vertical-align: middle;\n",
       "    }\n",
       "\n",
       "    .dataframe tbody tr th {\n",
       "        vertical-align: top;\n",
       "    }\n",
       "\n",
       "    .dataframe thead th {\n",
       "        text-align: right;\n",
       "    }\n",
       "</style>\n",
       "<table border=\"1\" class=\"dataframe\">\n",
       "  <thead>\n",
       "    <tr style=\"text-align: right;\">\n",
       "      <th></th>\n",
       "      <th>user_id</th>\n",
       "      <th>visited</th>\n",
       "    </tr>\n",
       "    <tr>\n",
       "      <th>time_stamp</th>\n",
       "      <th></th>\n",
       "      <th></th>\n",
       "    </tr>\n",
       "  </thead>\n",
       "  <tbody>\n",
       "    <tr>\n",
       "      <th>2014-04-22 03:53:30</th>\n",
       "      <td>1</td>\n",
       "      <td>1</td>\n",
       "    </tr>\n",
       "    <tr>\n",
       "      <th>2013-11-15 03:45:04</th>\n",
       "      <td>2</td>\n",
       "      <td>1</td>\n",
       "    </tr>\n",
       "    <tr>\n",
       "      <th>2013-11-29 03:45:04</th>\n",
       "      <td>2</td>\n",
       "      <td>1</td>\n",
       "    </tr>\n",
       "    <tr>\n",
       "      <th>2013-12-09 03:45:04</th>\n",
       "      <td>2</td>\n",
       "      <td>1</td>\n",
       "    </tr>\n",
       "    <tr>\n",
       "      <th>2013-12-25 03:45:04</th>\n",
       "      <td>2</td>\n",
       "      <td>1</td>\n",
       "    </tr>\n",
       "    <tr>\n",
       "      <th>...</th>\n",
       "      <td>...</td>\n",
       "      <td>...</td>\n",
       "    </tr>\n",
       "    <tr>\n",
       "      <th>2013-09-06 06:14:15</th>\n",
       "      <td>11996</td>\n",
       "      <td>1</td>\n",
       "    </tr>\n",
       "    <tr>\n",
       "      <th>2013-01-15 18:28:37</th>\n",
       "      <td>11997</td>\n",
       "      <td>1</td>\n",
       "    </tr>\n",
       "    <tr>\n",
       "      <th>2014-04-27 12:45:16</th>\n",
       "      <td>11998</td>\n",
       "      <td>1</td>\n",
       "    </tr>\n",
       "    <tr>\n",
       "      <th>2012-06-02 11:55:59</th>\n",
       "      <td>11999</td>\n",
       "      <td>1</td>\n",
       "    </tr>\n",
       "    <tr>\n",
       "      <th>2014-01-26 08:57:12</th>\n",
       "      <td>12000</td>\n",
       "      <td>1</td>\n",
       "    </tr>\n",
       "  </tbody>\n",
       "</table>\n",
       "<p>207917 rows × 2 columns</p>\n",
       "</div>"
      ],
      "text/plain": [
       "                     user_id  visited\n",
       "time_stamp                           \n",
       "2014-04-22 03:53:30        1        1\n",
       "2013-11-15 03:45:04        2        1\n",
       "2013-11-29 03:45:04        2        1\n",
       "2013-12-09 03:45:04        2        1\n",
       "2013-12-25 03:45:04        2        1\n",
       "...                      ...      ...\n",
       "2013-09-06 06:14:15    11996        1\n",
       "2013-01-15 18:28:37    11997        1\n",
       "2014-04-27 12:45:16    11998        1\n",
       "2012-06-02 11:55:59    11999        1\n",
       "2014-01-26 08:57:12    12000        1\n",
       "\n",
       "[207917 rows x 2 columns]"
      ]
     },
     "execution_count": 4,
     "metadata": {},
     "output_type": "execute_result"
    }
   ],
   "source": [
    "#Look at engagement data\n",
    "df_engagement = pd.read_csv('takehome_user_engagement.csv', parse_dates=True, index_col=0, encoding='iso-8859-1')\n",
    "df_engagement"
   ]
  },
  {
   "cell_type": "code",
   "execution_count": 5,
   "metadata": {},
   "outputs": [
    {
     "name": "stdout",
     "output_type": "stream",
     "text": [
      "<class 'pandas.core.frame.DataFrame'>\n",
      "DatetimeIndex: 207917 entries, 2014-04-22 03:53:30 to 2014-01-26 08:57:12\n",
      "Data columns (total 2 columns):\n",
      "user_id    207917 non-null int64\n",
      "visited    207917 non-null int64\n",
      "dtypes: int64(2)\n",
      "memory usage: 4.8 MB\n"
     ]
    }
   ],
   "source": [
    "df_engagement.info()"
   ]
  },
  {
   "cell_type": "code",
   "execution_count": 6,
   "metadata": {},
   "outputs": [
    {
     "data": {
      "text/plain": [
       "user_id  time_stamp\n",
       "1        2014-04-22    1\n",
       "2        2013-11-15    1\n",
       "         2013-11-16    0\n",
       "         2013-11-17    0\n",
       "         2013-11-18    0\n",
       "                      ..\n",
       "11996    2013-09-06    1\n",
       "11997    2013-01-15    1\n",
       "11998    2014-04-27    1\n",
       "11999    2012-06-02    1\n",
       "12000    2014-01-26    1\n",
       "Name: visited, Length: 522501, dtype: int64"
      ]
     },
     "execution_count": 6,
     "metadata": {},
     "output_type": "execute_result"
    }
   ],
   "source": [
    "#Resample daily visits by users\n",
    "daily_engagement = df_engagement.groupby('user_id').apply(lambda x: x.visited.resample('D').sum())\n",
    "daily_engagement"
   ]
  },
  {
   "cell_type": "code",
   "execution_count": 7,
   "metadata": {},
   "outputs": [
    {
     "data": {
      "text/plain": [
       "1"
      ]
     },
     "execution_count": 7,
     "metadata": {},
     "output_type": "execute_result"
    }
   ],
   "source": [
    "#Check if any users logged in more than once a day\n",
    "daily_engagement.max()"
   ]
  },
  {
   "cell_type": "code",
   "execution_count": 8,
   "metadata": {},
   "outputs": [],
   "source": [
    "#Create a list with adopted users\n",
    "adopted_users = []\n",
    "\n",
    "#Extract users\n",
    "all_users = df_engagement.user_id.unique()\n",
    "\n",
    "#Determine which are the active users\n",
    "for user in all_users:\n",
    "    \n",
    "    #Calculates max user engagement over continuous 7 day rolling period\n",
    "    max_engagement = daily_engagement[user].sort_values().rolling(7).sum().max()\n",
    "        \n",
    "    if max_engagement >= 3: #if user used at least 3 times \n",
    "        adopted_users.append(user)"
   ]
  },
  {
   "cell_type": "code",
   "execution_count": 9,
   "metadata": {},
   "outputs": [],
   "source": [
    "#Add the target column to the original dataframe with 'adopted' status\n",
    "df_users['adopted'] = df_users['object_id'].isin(adopted_users)"
   ]
  },
  {
   "cell_type": "markdown",
   "metadata": {},
   "source": [
    "### Identify which factors predict future user adoption"
   ]
  },
  {
   "cell_type": "markdown",
   "metadata": {},
   "source": [
    "The first step here is to explore the available feature columns and either remove them or format them in a way that will make it so our model results are interpretable. The features that will be looked at are:\n",
    "- email domain\n",
    "- organization size\n",
    "- invited_by_user\n",
    "- creation source\n",
    "- total time active"
   ]
  },
  {
   "cell_type": "code",
   "execution_count": 10,
   "metadata": {},
   "outputs": [
    {
     "data": {
      "text/plain": [
       "gmail.com         3562\n",
       "yahoo.com         2447\n",
       "jourrapide.com    1259\n",
       "cuvox.de          1202\n",
       "gustr.com         1179\n",
       "hotmail.com       1165\n",
       "Name: email, dtype: int64"
      ]
     },
     "execution_count": 10,
     "metadata": {},
     "output_type": "execute_result"
    }
   ],
   "source": [
    "#Lets inspect email domains\n",
    "df_users.email.apply(lambda x: x.split('@')[1]).value_counts()[0:6]#all other provider had counts >= 2"
   ]
  },
  {
   "cell_type": "markdown",
   "metadata": {},
   "source": [
    "We might be able to use email provider as an additional feature - gustr, cuvox and jourrapide are all disposable email adress services "
   ]
  },
  {
   "cell_type": "code",
   "execution_count": 11,
   "metadata": {},
   "outputs": [],
   "source": [
    "#Adding a new feature called email provider\n",
    "    # - 'regular' will be used for gmail, hotmail and yahoo; \n",
    "    # - 'disposable' will be used for disposable email services: gustr, cuvox and jourrapide\n",
    "    # - 'other' for all others\n",
    "email_provider_dict = {'gmail.com':'regular',\n",
    "                       'hotmail.com':'regular',\n",
    "                       'yahoo.com':'regular',\n",
    "                       'jourrapide.com':'disposable',\n",
    "                       'cuvox.de':'disposable',\n",
    "                       'gustr.com':'disposable'}\n",
    "\n",
    "df_users['email_provider'] = df_users.email.apply(lambda x: x.split('@')[1])\n",
    "df_users['email_provider'] =  df_users['email_provider'].map(email_provider_dict).fillna('other')"
   ]
  },
  {
   "cell_type": "code",
   "execution_count": 12,
   "metadata": {},
   "outputs": [],
   "source": [
    "#For the 'invited_by_user_id' column I will assume that a NaN means the user was not invited by another user\n",
    "#NaNs will be set to False other values will be set to True\n",
    "\n",
    "df_users['invited_by_user'] = (df_users['invited_by_user_id']).notnull()"
   ]
  },
  {
   "cell_type": "code",
   "execution_count": 13,
   "metadata": {},
   "outputs": [
    {
     "name": "stdout",
     "output_type": "stream",
     "text": [
      "Number of unique orgs: 417\n",
      "Median number of users per org: 43.0\n",
      "Mean number of users per org: 56.653333333333336\n",
      "Max number of users for an org: 319\n",
      "Min number of users for an org: 2\n"
     ]
    }
   ],
   "source": [
    "#Now let's explore org_id data\n",
    "print('Number of unique orgs:',len(df_users.org_id.unique()))\n",
    "print('Median number of users per org:',np.median(df_users.org_id.value_counts().unique()))\n",
    "print('Mean number of users per org:',np.mean(df_users.org_id.value_counts().unique()))\n",
    "print('Max number of users for an org:',np.max(df_users.org_id.value_counts().unique()))\n",
    "print('Min number of users for an org:',np.min(df_users.org_id.value_counts().unique()))"
   ]
  },
  {
   "cell_type": "markdown",
   "metadata": {},
   "source": [
    "With 417 unique organizations using this feature as a categorical variable would not yield easily interpretable results, we will be generating instead a new feature containing the number of users for the organization the user signed up for. This will provide the model with information regarding the size of the organization."
   ]
  },
  {
   "cell_type": "code",
   "execution_count": 14,
   "metadata": {},
   "outputs": [],
   "source": [
    "org_users_dict = (df_users.org_id.value_counts()).to_dict()\n",
    "df_users['org_num_users'] = df_users['org_id'].map(org_users_dict)"
   ]
  },
  {
   "cell_type": "code",
   "execution_count": 15,
   "metadata": {},
   "outputs": [],
   "source": [
    "from datetime import datetime\n",
    "\n",
    "#Creation time and last session time need to be converted to ordinal to be used by the model\n",
    "\n",
    "#first we remove rows for which \"last_session_creation_time\" is missing\n",
    "df_users.dropna(subset=['last_session_creation_time'], inplace=True)\n",
    "\n",
    "#Time information is converted to ordinal\n",
    "df_users['creation_time']= df_users['creation_time'].apply(datetime.toordinal)\n",
    "df_users['last_session_creation_time']= df_users['last_session_creation_time'].apply(datetime.toordinal)\n",
    "\n",
    "#Creation time and last session creation time information can be used to calculate a time delta:\n",
    "df_users['delta_time_active'] = df_users['last_session_creation_time'] - df_users['creation_time']"
   ]
  },
  {
   "cell_type": "code",
   "execution_count": 16,
   "metadata": {},
   "outputs": [
    {
     "data": {
      "text/html": [
       "<div>\n",
       "<style scoped>\n",
       "    .dataframe tbody tr th:only-of-type {\n",
       "        vertical-align: middle;\n",
       "    }\n",
       "\n",
       "    .dataframe tbody tr th {\n",
       "        vertical-align: top;\n",
       "    }\n",
       "\n",
       "    .dataframe thead th {\n",
       "        text-align: right;\n",
       "    }\n",
       "</style>\n",
       "<table border=\"1\" class=\"dataframe\">\n",
       "  <thead>\n",
       "    <tr style=\"text-align: right;\">\n",
       "      <th></th>\n",
       "      <th>object_id</th>\n",
       "      <th>creation_time</th>\n",
       "      <th>name</th>\n",
       "      <th>email</th>\n",
       "      <th>creation_source</th>\n",
       "      <th>last_session_creation_time</th>\n",
       "      <th>opted_in_to_mailing_list</th>\n",
       "      <th>enabled_for_marketing_drip</th>\n",
       "      <th>org_id</th>\n",
       "      <th>invited_by_user_id</th>\n",
       "      <th>adopted</th>\n",
       "      <th>email_provider</th>\n",
       "      <th>invited_by_user</th>\n",
       "      <th>org_num_users</th>\n",
       "      <th>delta_time_active</th>\n",
       "    </tr>\n",
       "  </thead>\n",
       "  <tbody>\n",
       "    <tr>\n",
       "      <th>0</th>\n",
       "      <td>1</td>\n",
       "      <td>735345</td>\n",
       "      <td>Clausen August</td>\n",
       "      <td>AugustCClausen@yahoo.com</td>\n",
       "      <td>GUEST_INVITE</td>\n",
       "      <td>735345</td>\n",
       "      <td>1</td>\n",
       "      <td>0</td>\n",
       "      <td>11</td>\n",
       "      <td>10803.0</td>\n",
       "      <td>False</td>\n",
       "      <td>regular</td>\n",
       "      <td>True</td>\n",
       "      <td>75</td>\n",
       "      <td>0</td>\n",
       "    </tr>\n",
       "    <tr>\n",
       "      <th>1</th>\n",
       "      <td>2</td>\n",
       "      <td>735187</td>\n",
       "      <td>Poole Matthew</td>\n",
       "      <td>MatthewPoole@gustr.com</td>\n",
       "      <td>ORG_INVITE</td>\n",
       "      <td>735323</td>\n",
       "      <td>0</td>\n",
       "      <td>0</td>\n",
       "      <td>1</td>\n",
       "      <td>316.0</td>\n",
       "      <td>True</td>\n",
       "      <td>disposable</td>\n",
       "      <td>True</td>\n",
       "      <td>233</td>\n",
       "      <td>136</td>\n",
       "    </tr>\n",
       "    <tr>\n",
       "      <th>2</th>\n",
       "      <td>3</td>\n",
       "      <td>734946</td>\n",
       "      <td>Bottrill Mitchell</td>\n",
       "      <td>MitchellBottrill@gustr.com</td>\n",
       "      <td>ORG_INVITE</td>\n",
       "      <td>734946</td>\n",
       "      <td>0</td>\n",
       "      <td>0</td>\n",
       "      <td>94</td>\n",
       "      <td>1525.0</td>\n",
       "      <td>False</td>\n",
       "      <td>disposable</td>\n",
       "      <td>True</td>\n",
       "      <td>32</td>\n",
       "      <td>0</td>\n",
       "    </tr>\n",
       "    <tr>\n",
       "      <th>3</th>\n",
       "      <td>4</td>\n",
       "      <td>735009</td>\n",
       "      <td>Clausen Nicklas</td>\n",
       "      <td>NicklasSClausen@yahoo.com</td>\n",
       "      <td>GUEST_INVITE</td>\n",
       "      <td>735010</td>\n",
       "      <td>0</td>\n",
       "      <td>0</td>\n",
       "      <td>1</td>\n",
       "      <td>5151.0</td>\n",
       "      <td>False</td>\n",
       "      <td>regular</td>\n",
       "      <td>True</td>\n",
       "      <td>233</td>\n",
       "      <td>1</td>\n",
       "    </tr>\n",
       "    <tr>\n",
       "      <th>4</th>\n",
       "      <td>5</td>\n",
       "      <td>734885</td>\n",
       "      <td>Raw Grace</td>\n",
       "      <td>GraceRaw@yahoo.com</td>\n",
       "      <td>GUEST_INVITE</td>\n",
       "      <td>734890</td>\n",
       "      <td>0</td>\n",
       "      <td>0</td>\n",
       "      <td>193</td>\n",
       "      <td>5240.0</td>\n",
       "      <td>False</td>\n",
       "      <td>regular</td>\n",
       "      <td>True</td>\n",
       "      <td>16</td>\n",
       "      <td>5</td>\n",
       "    </tr>\n",
       "    <tr>\n",
       "      <th>...</th>\n",
       "      <td>...</td>\n",
       "      <td>...</td>\n",
       "      <td>...</td>\n",
       "      <td>...</td>\n",
       "      <td>...</td>\n",
       "      <td>...</td>\n",
       "      <td>...</td>\n",
       "      <td>...</td>\n",
       "      <td>...</td>\n",
       "      <td>...</td>\n",
       "      <td>...</td>\n",
       "      <td>...</td>\n",
       "      <td>...</td>\n",
       "      <td>...</td>\n",
       "      <td>...</td>\n",
       "    </tr>\n",
       "    <tr>\n",
       "      <th>11995</th>\n",
       "      <td>11996</td>\n",
       "      <td>735117</td>\n",
       "      <td>Meier Sophia</td>\n",
       "      <td>SophiaMeier@gustr.com</td>\n",
       "      <td>ORG_INVITE</td>\n",
       "      <td>735117</td>\n",
       "      <td>0</td>\n",
       "      <td>0</td>\n",
       "      <td>89</td>\n",
       "      <td>8263.0</td>\n",
       "      <td>False</td>\n",
       "      <td>disposable</td>\n",
       "      <td>True</td>\n",
       "      <td>40</td>\n",
       "      <td>0</td>\n",
       "    </tr>\n",
       "    <tr>\n",
       "      <th>11996</th>\n",
       "      <td>11997</td>\n",
       "      <td>734878</td>\n",
       "      <td>Fisher Amelie</td>\n",
       "      <td>AmelieFisher@gmail.com</td>\n",
       "      <td>SIGNUP_GOOGLE_AUTH</td>\n",
       "      <td>734883</td>\n",
       "      <td>0</td>\n",
       "      <td>0</td>\n",
       "      <td>200</td>\n",
       "      <td>NaN</td>\n",
       "      <td>False</td>\n",
       "      <td>regular</td>\n",
       "      <td>False</td>\n",
       "      <td>25</td>\n",
       "      <td>5</td>\n",
       "    </tr>\n",
       "    <tr>\n",
       "      <th>11997</th>\n",
       "      <td>11998</td>\n",
       "      <td>735350</td>\n",
       "      <td>Haynes Jake</td>\n",
       "      <td>JakeHaynes@cuvox.de</td>\n",
       "      <td>GUEST_INVITE</td>\n",
       "      <td>735350</td>\n",
       "      <td>1</td>\n",
       "      <td>1</td>\n",
       "      <td>83</td>\n",
       "      <td>8074.0</td>\n",
       "      <td>False</td>\n",
       "      <td>disposable</td>\n",
       "      <td>True</td>\n",
       "      <td>27</td>\n",
       "      <td>0</td>\n",
       "    </tr>\n",
       "    <tr>\n",
       "      <th>11998</th>\n",
       "      <td>11999</td>\n",
       "      <td>734654</td>\n",
       "      <td>Faber Annett</td>\n",
       "      <td>mhaerzxp@iuxiw.com</td>\n",
       "      <td>PERSONAL_PROJECTS</td>\n",
       "      <td>734656</td>\n",
       "      <td>0</td>\n",
       "      <td>0</td>\n",
       "      <td>6</td>\n",
       "      <td>NaN</td>\n",
       "      <td>False</td>\n",
       "      <td>other</td>\n",
       "      <td>False</td>\n",
       "      <td>138</td>\n",
       "      <td>2</td>\n",
       "    </tr>\n",
       "    <tr>\n",
       "      <th>11999</th>\n",
       "      <td>12000</td>\n",
       "      <td>735259</td>\n",
       "      <td>Lima Thaís</td>\n",
       "      <td>ThaisMeloLima@hotmail.com</td>\n",
       "      <td>SIGNUP</td>\n",
       "      <td>735259</td>\n",
       "      <td>0</td>\n",
       "      <td>1</td>\n",
       "      <td>0</td>\n",
       "      <td>NaN</td>\n",
       "      <td>False</td>\n",
       "      <td>regular</td>\n",
       "      <td>False</td>\n",
       "      <td>319</td>\n",
       "      <td>0</td>\n",
       "    </tr>\n",
       "  </tbody>\n",
       "</table>\n",
       "<p>8823 rows × 15 columns</p>\n",
       "</div>"
      ],
      "text/plain": [
       "       object_id  creation_time               name  \\\n",
       "0              1         735345     Clausen August   \n",
       "1              2         735187      Poole Matthew   \n",
       "2              3         734946  Bottrill Mitchell   \n",
       "3              4         735009    Clausen Nicklas   \n",
       "4              5         734885          Raw Grace   \n",
       "...          ...            ...                ...   \n",
       "11995      11996         735117       Meier Sophia   \n",
       "11996      11997         734878      Fisher Amelie   \n",
       "11997      11998         735350        Haynes Jake   \n",
       "11998      11999         734654       Faber Annett   \n",
       "11999      12000         735259         Lima Thaís   \n",
       "\n",
       "                            email     creation_source  \\\n",
       "0        AugustCClausen@yahoo.com        GUEST_INVITE   \n",
       "1          MatthewPoole@gustr.com          ORG_INVITE   \n",
       "2      MitchellBottrill@gustr.com          ORG_INVITE   \n",
       "3       NicklasSClausen@yahoo.com        GUEST_INVITE   \n",
       "4              GraceRaw@yahoo.com        GUEST_INVITE   \n",
       "...                           ...                 ...   \n",
       "11995       SophiaMeier@gustr.com          ORG_INVITE   \n",
       "11996      AmelieFisher@gmail.com  SIGNUP_GOOGLE_AUTH   \n",
       "11997         JakeHaynes@cuvox.de        GUEST_INVITE   \n",
       "11998          mhaerzxp@iuxiw.com   PERSONAL_PROJECTS   \n",
       "11999   ThaisMeloLima@hotmail.com              SIGNUP   \n",
       "\n",
       "       last_session_creation_time  opted_in_to_mailing_list  \\\n",
       "0                          735345                         1   \n",
       "1                          735323                         0   \n",
       "2                          734946                         0   \n",
       "3                          735010                         0   \n",
       "4                          734890                         0   \n",
       "...                           ...                       ...   \n",
       "11995                      735117                         0   \n",
       "11996                      734883                         0   \n",
       "11997                      735350                         1   \n",
       "11998                      734656                         0   \n",
       "11999                      735259                         0   \n",
       "\n",
       "       enabled_for_marketing_drip  org_id  invited_by_user_id  adopted  \\\n",
       "0                               0      11             10803.0    False   \n",
       "1                               0       1               316.0     True   \n",
       "2                               0      94              1525.0    False   \n",
       "3                               0       1              5151.0    False   \n",
       "4                               0     193              5240.0    False   \n",
       "...                           ...     ...                 ...      ...   \n",
       "11995                           0      89              8263.0    False   \n",
       "11996                           0     200                 NaN    False   \n",
       "11997                           1      83              8074.0    False   \n",
       "11998                           0       6                 NaN    False   \n",
       "11999                           1       0                 NaN    False   \n",
       "\n",
       "      email_provider  invited_by_user  org_num_users  delta_time_active  \n",
       "0            regular             True             75                  0  \n",
       "1         disposable             True            233                136  \n",
       "2         disposable             True             32                  0  \n",
       "3            regular             True            233                  1  \n",
       "4            regular             True             16                  5  \n",
       "...              ...              ...            ...                ...  \n",
       "11995     disposable             True             40                  0  \n",
       "11996        regular            False             25                  5  \n",
       "11997     disposable             True             27                  0  \n",
       "11998          other            False            138                  2  \n",
       "11999        regular            False            319                  0  \n",
       "\n",
       "[8823 rows x 15 columns]"
      ]
     },
     "execution_count": 16,
     "metadata": {},
     "output_type": "execute_result"
    }
   ],
   "source": [
    "df_users"
   ]
  },
  {
   "cell_type": "code",
   "execution_count": 17,
   "metadata": {},
   "outputs": [
    {
     "name": "stdout",
     "output_type": "stream",
     "text": [
      "<class 'pandas.core.frame.DataFrame'>\n",
      "Int64Index: 8823 entries, 0 to 11999\n",
      "Data columns (total 13 columns):\n",
      "creation_time                         8823 non-null int64\n",
      "opted_in_to_mailing_list              8823 non-null int64\n",
      "enabled_for_marketing_drip            8823 non-null int64\n",
      "adopted                               8823 non-null bool\n",
      "invited_by_user                       8823 non-null bool\n",
      "org_num_users                         8823 non-null int64\n",
      "delta_time_active                     8823 non-null int64\n",
      "creation_source_ORG_INVITE            8823 non-null uint8\n",
      "creation_source_PERSONAL_PROJECTS     8823 non-null uint8\n",
      "creation_source_SIGNUP                8823 non-null uint8\n",
      "creation_source_SIGNUP_GOOGLE_AUTH    8823 non-null uint8\n",
      "email_other                           8823 non-null uint8\n",
      "email_regular                         8823 non-null uint8\n",
      "dtypes: bool(2), int64(5), uint8(6)\n",
      "memory usage: 482.5 KB\n"
     ]
    }
   ],
   "source": [
    "from sklearn.preprocessing import StandardScaler\n",
    "import statsmodels.api as sm\n",
    "\n",
    "\n",
    "#Dealing with categorical variables for the logistic regression model#\n",
    "modified_df = df_users.drop(['object_id','name','email','org_id','invited_by_user_id','last_session_creation_time'],axis=1).copy()\n",
    "\n",
    "#Getting dummies for creation_source and email_provider \n",
    "modified_df = pd.get_dummies(modified_df, columns=['creation_source'], drop_first=True)\n",
    "modified_df = pd.get_dummies(modified_df, prefix=['email'], columns=['email_provider'], drop_first=True)\n",
    "\n",
    "feature_cols = modified_df.drop('adopted', axis =1).columns\n",
    "\n",
    "modified_df.info()"
   ]
  },
  {
   "cell_type": "code",
   "execution_count": 18,
   "metadata": {
    "scrolled": false
   },
   "outputs": [
    {
     "name": "stdout",
     "output_type": "stream",
     "text": [
      "Optimization terminated successfully.\n",
      "         Current function value: 0.160674\n",
      "         Iterations 9\n",
      "                           Logit Regression Results                           \n",
      "==============================================================================\n",
      "Dep. Variable:                      y   No. Observations:                 8823\n",
      "Model:                          Logit   Df Residuals:                     8812\n",
      "Method:                           MLE   Df Model:                           10\n",
      "Date:                Mon, 27 Jul 2020   Pseudo R-squ.:                  0.7166\n",
      "Time:                        15:08:34   Log-Likelihood:                -1417.6\n",
      "converged:                       True   LL-Null:                       -5002.0\n",
      "                                        LLR p-value:                     0.000\n",
      "======================================================================================================\n",
      "                                         coef    std err          z      P>|z|      [0.025      0.975]\n",
      "------------------------------------------------------------------------------------------------------\n",
      "creation_time                          0.2842      0.053      5.322      0.000       0.180       0.389\n",
      "opted_in_to_mailing_list               0.0659      0.059      1.113      0.266      -0.050       0.182\n",
      "enabled_for_marketing_drip            -0.0152      0.059     -0.257      0.797      -0.131       0.101\n",
      "invited_by_user                        0.1688        nan        nan        nan         nan         nan\n",
      "org_num_users                         -0.5566      0.082     -6.822      0.000      -0.716      -0.397\n",
      "delta_time_active                      8.7817      0.181     48.574      0.000       8.427       9.136\n",
      "creation_source_ORG_INVITE            -0.1809      0.067     -2.693      0.007      -0.312      -0.049\n",
      "creation_source_PERSONAL_PROJECTS      0.0555        nan        nan        nan         nan         nan\n",
      "creation_source_SIGNUP                -0.0803        nan        nan        nan         nan         nan\n",
      "creation_source_SIGNUP_GOOGLE_AUTH    -0.1834        nan        nan        nan         nan         nan\n",
      "email_other                            0.0487      0.058      0.838      0.402      -0.065       0.163\n",
      "email_regular                          0.1848      0.062      2.998      0.003       0.064       0.306\n",
      "======================================================================================================\n",
      "\n",
      "Possibly complete quasi-separation: A fraction 0.11 of observations can be\n",
      "perfectly predicted. This might indicate that there is complete\n",
      "quasi-separation. In this case some parameters will not be identified.\n"
     ]
    },
    {
     "name": "stderr",
     "output_type": "stream",
     "text": [
      "C:\\Users\\isado\\Anaconda3\\lib\\site-packages\\statsmodels\\base\\model.py:1092: RuntimeWarning: invalid value encountered in sqrt\n",
      "  bse_ = np.sqrt(np.diag(self.cov_params()))\n",
      "C:\\Users\\isado\\Anaconda3\\lib\\site-packages\\scipy\\stats\\_distn_infrastructure.py:879: RuntimeWarning: invalid value encountered in greater\n",
      "  return (self.a < x) & (x < self.b)\n",
      "C:\\Users\\isado\\Anaconda3\\lib\\site-packages\\scipy\\stats\\_distn_infrastructure.py:879: RuntimeWarning: invalid value encountered in less\n",
      "  return (self.a < x) & (x < self.b)\n",
      "C:\\Users\\isado\\Anaconda3\\lib\\site-packages\\scipy\\stats\\_distn_infrastructure.py:1821: RuntimeWarning: invalid value encountered in less_equal\n",
      "  cond2 = cond0 & (x <= self.a)\n"
     ]
    }
   ],
   "source": [
    "#Fit model and print results\n",
    "scaler = StandardScaler()\n",
    "features_scaled = pd.DataFrame(scaler.fit_transform(modified_df[feature_cols]), columns = feature_cols)\n",
    "\n",
    "logit = sm.Logit(list(modified_df['adopted']), features_scaled)\n",
    "\n",
    "result = logit.fit()\n",
    "\n",
    "print (result.summary())"
   ]
  },
  {
   "cell_type": "code",
   "execution_count": 19,
   "metadata": {},
   "outputs": [],
   "source": [
    "#Let's define the features of the model\n",
    "features = ['creation_time', 'creation_source','last_session_creation_time', 'opted_in_to_mailing_list',\n",
    "       'enabled_for_marketing_drip', 'email_provider', 'invited_by_user', 'org_num_users','delta_time_active']\n",
    "target = ['adopted']"
   ]
  },
  {
   "cell_type": "code",
   "execution_count": 20,
   "metadata": {},
   "outputs": [
    {
     "name": "stdout",
     "output_type": "stream",
     "text": [
      "\n",
      "ODDS RATIOS\n",
      "\n",
      "delta_time_active                     6513.666572\n",
      "creation_time                            1.328641\n",
      "email_regular                            1.202975\n",
      "invited_by_user                          1.183843\n",
      "opted_in_to_mailing_list                 1.068096\n",
      "creation_source_PERSONAL_PROJECTS        1.057062\n",
      "email_other                              1.049894\n",
      "enabled_for_marketing_drip               0.984910\n",
      "creation_source_SIGNUP                   0.922866\n",
      "creation_source_ORG_INVITE               0.834548\n",
      "creation_source_SIGNUP_GOOGLE_AUTH       0.832434\n",
      "org_num_users                            0.573161\n",
      "dtype: float64\n"
     ]
    }
   ],
   "source": [
    "print('\\nODDS RATIOS\\n')\n",
    "print (np.exp(result.params).sort_values(ascending=False))"
   ]
  },
  {
   "cell_type": "markdown",
   "metadata": {},
   "source": [
    "The biggest factor predicting user adoption is the 'delta_time_active' variable, which was computed based on the amount of time spanned from when the user signed up to when the user last logged in. Let's verify this by creating a boxplot showing the adoption status vs the amount of active time."
   ]
  },
  {
   "cell_type": "code",
   "execution_count": 28,
   "metadata": {},
   "outputs": [
    {
     "data": {
      "image/png": "[encoded data removed]",
      "text/plain": [
       "<Figure size 864x216 with 1 Axes>"
      ]
     },
     "metadata": {},
     "output_type": "display_data"
    }
   ],
   "source": [
    "import seaborn as sns\n",
    "\n",
    "plt.figure(figsize=(12, 3))\n",
    "sns.set(font_scale=1.25)\n",
    "sns.set_style(\"whitegrid\")\n",
    "sns.boxplot(x ='delta_time_active', y='adopted', data=df_users, orient='h', showfliers = False)\n",
    "plt.xlabel('Number of days between last login and account creation')\n",
    "plt.show()"
   ]
  },
  {
   "cell_type": "code",
   "execution_count": 22,
   "metadata": {
    "scrolled": true
   },
   "outputs": [
    {
     "name": "stdout",
     "output_type": "stream",
     "text": [
      "ADOPTED USERS\n",
      "        delta_time_active\n",
      "count        2243.000000\n",
      "mean          227.611681\n",
      "std           209.030702\n",
      "min             6.000000\n",
      "25%            52.000000\n",
      "50%           141.000000\n",
      "75%           364.000000\n",
      "max           729.000000\n",
      "NON ADOPTED USERS\n",
      "        delta_time_active\n",
      "count        6580.000000\n",
      "mean            1.821277\n",
      "std             4.420960\n",
      "min             0.000000\n",
      "25%             0.000000\n",
      "50%             1.000000\n",
      "75%             2.000000\n",
      "max            62.000000\n"
     ]
    }
   ],
   "source": [
    "print('ADOPTED USERS\\n',df_users[['delta_time_active']][df_users.adopted == True].describe())\n",
    "print('NON ADOPTED USERS\\n',df_users[['delta_time_active']][df_users.adopted == False].describe())"
   ]
  },
  {
   "cell_type": "markdown",
   "metadata": {},
   "source": [
    "From the boxplot and summary above it can seen that the time elapsed is drastically different between the two classes and it can be nearly perfectly separated simply using an elapsed time cutoff of 16 days."
   ]
  },
  {
   "cell_type": "code",
   "execution_count": 23,
   "metadata": {},
   "outputs": [
    {
     "data": {
      "text/plain": [
       "delta_time_active    18.0\n",
       "Name: 0.98, dtype: float64"
      ]
     },
     "execution_count": 23,
     "metadata": {},
     "output_type": "execute_result"
    }
   ],
   "source": [
    "df_users[['delta_time_active']][df_users.adopted == False].quantile(q=0.98)"
   ]
  },
  {
   "cell_type": "code",
   "execution_count": 24,
   "metadata": {},
   "outputs": [
    {
     "data": {
      "text/plain": [
       "delta_time_active    13.0\n",
       "Name: 0.02, dtype: float64"
      ]
     },
     "execution_count": 24,
     "metadata": {},
     "output_type": "execute_result"
    }
   ],
   "source": [
    "df_users[['delta_time_active']][df_users.adopted == True].quantile(q=0.02)"
   ]
  },
  {
   "cell_type": "code",
   "execution_count": 25,
   "metadata": {},
   "outputs": [
    {
     "data": {
      "text/plain": [
       "adopted    0.933535\n",
       "dtype: float64"
      ]
     },
     "execution_count": 25,
     "metadata": {},
     "output_type": "execute_result"
    }
   ],
   "source": [
    "df_users[['adopted']][df_users.delta_time_active > 16].mean()"
   ]
  },
  {
   "cell_type": "markdown",
   "metadata": {},
   "source": [
    "To explore which factors beyond active time are predictive of user adoption we drop the columns and generate a new logistic regression model"
   ]
  },
  {
   "cell_type": "code",
   "execution_count": 26,
   "metadata": {},
   "outputs": [
    {
     "name": "stdout",
     "output_type": "stream",
     "text": [
      "Optimization terminated successfully.\n",
      "         Current function value: 0.682777\n",
      "         Iterations 30\n",
      "                           Logit Regression Results                           \n",
      "==============================================================================\n",
      "Dep. Variable:                      y   No. Observations:                 8823\n",
      "Model:                          Logit   Df Residuals:                     8813\n",
      "Method:                           MLE   Df Model:                            9\n",
      "Date:                Mon, 27 Jul 2020   Pseudo R-squ.:                 -0.2043\n",
      "Time:                        15:08:35   Log-Likelihood:                -6024.1\n",
      "converged:                       True   LL-Null:                       -5002.0\n",
      "                                        LLR p-value:                     1.000\n",
      "======================================================================================================\n",
      "                                         coef    std err          z      P>|z|      [0.025      0.975]\n",
      "------------------------------------------------------------------------------------------------------\n",
      "creation_time                         -0.1353      0.022     -6.266      0.000      -0.178      -0.093\n",
      "opted_in_to_mailing_list               0.0109      0.025      0.444      0.657      -0.037       0.059\n",
      "enabled_for_marketing_drip             0.0031      0.025      0.125      0.900      -0.045       0.051\n",
      "invited_by_user                        0.0968   1.38e+06   7.01e-08      1.000   -2.71e+06    2.71e+06\n",
      "org_num_users                         -0.2148      0.022     -9.547      0.000      -0.259      -0.171\n",
      "creation_source_ORG_INVITE            -0.1341      0.030     -4.483      0.000      -0.193      -0.075\n",
      "creation_source_PERSONAL_PROJECTS      0.0398    7.8e+05   5.11e-08      1.000   -1.53e+06    1.53e+06\n",
      "creation_source_SIGNUP                -0.0809   1.14e+06   -7.1e-08      1.000   -2.23e+06    2.23e+06\n",
      "creation_source_SIGNUP_GOOGLE_AUTH    -0.0719   1.01e+06  -7.13e-08      1.000   -1.98e+06    1.98e+06\n",
      "email_other                            0.0417      0.024      1.773      0.076      -0.004       0.088\n",
      "email_regular                          0.0572      0.025      2.308      0.021       0.009       0.106\n",
      "======================================================================================================\n"
     ]
    }
   ],
   "source": [
    "#Fit model and print results\n",
    "feature_cols = modified_df.drop(['adopted','delta_time_active'], axis =1).columns\n",
    "\n",
    "scaler = StandardScaler()\n",
    "features_scaled = pd.DataFrame(scaler.fit_transform(modified_df[feature_cols]), columns = feature_cols)\n",
    "\n",
    "logit = sm.Logit(list(modified_df['adopted']), features_scaled)\n",
    "\n",
    "result = logit.fit()\n",
    "\n",
    "print (result.summary())"
   ]
  },
  {
   "cell_type": "code",
   "execution_count": 27,
   "metadata": {},
   "outputs": [
    {
     "name": "stdout",
     "output_type": "stream",
     "text": [
      "\n",
      "ODDS RATIOS\n",
      "\n",
      "invited_by_user                       1.101616\n",
      "email_regular                         1.058894\n",
      "email_other                           1.042627\n",
      "creation_source_PERSONAL_PROJECTS     1.040627\n",
      "opted_in_to_mailing_list              1.011000\n",
      "enabled_for_marketing_drip            1.003095\n",
      "creation_source_SIGNUP_GOOGLE_AUTH    0.930592\n",
      "creation_source_SIGNUP                0.922257\n",
      "creation_source_ORG_INVITE            0.874501\n",
      "creation_time                         0.873496\n",
      "org_num_users                         0.806719\n",
      "dtype: float64\n"
     ]
    }
   ],
   "source": [
    "print('\\nODDS RATIOS\\n')\n",
    "print (np.exp(result.params).sort_values(ascending=False))"
   ]
  }
 ],
 "metadata": {
  "kernelspec": {
   "display_name": "Python 3",
   "language": "python",
   "name": "python3"
  },
  "language_info": {
   "codemirror_mode": {
    "name": "ipython",
    "version": 3
   },
   "file_extension": ".py",
   "mimetype": "text/x-python",
   "name": "python",
   "nbconvert_exporter": "python",
   "pygments_lexer": "ipython3",
   "version": "3.6.5"
  }
 },
 "nbformat": 4,
 "nbformat_minor": 2
}
